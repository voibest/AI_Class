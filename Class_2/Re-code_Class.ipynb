{
 "cells": [
  {
   "cell_type": "code",
   "execution_count": 5,
   "metadata": {},
   "outputs": [],
   "source": [
    "import pandas as pd\n",
    "import numpy as np\n",
    "import re\n",
    "import matplotlib.pyplot as plt"
   ]
  },
  {
   "cell_type": "code",
   "execution_count": 6,
   "metadata": {},
   "outputs": [],
   "source": [
    "file_name = \"../80k_articles.txt\""
   ]
  },
  {
   "cell_type": "code",
   "execution_count": 7,
   "metadata": {},
   "outputs": [],
   "source": [
    "all_strings = open(file_name, encoding=\"utf8\").read()"
   ]
  },
  {
   "cell_type": "code",
   "execution_count": 8,
   "metadata": {},
   "outputs": [
    {
     "data": {
      "text/plain": [
       "34475997"
      ]
     },
     "execution_count": 8,
     "metadata": {},
     "output_type": "execute_result"
    }
   ],
   "source": [
    "len(all_strings)"
   ]
  },
  {
   "cell_type": "code",
   "execution_count": 9,
   "metadata": {},
   "outputs": [
    {
     "data": {
      "text/plain": [
       "'新华社照片东莞广东2017年4月7日体育9篮球CBA总决赛第四场广东对阵新疆4月7日广东东莞银行队球员易建联在比赛中扣篮当日在20162017赛季中国男子篮球职业联赛CBA总决赛第四场比赛中广东东莞银'"
      ]
     },
     "execution_count": 9,
     "metadata": {},
     "output_type": "execute_result"
    }
   ],
   "source": [
    "def tokenize(strings):\n",
    "    strings = strings.replace(u\"\\\\n\", u'')\n",
    "    return \"\".join(re.findall('[\\w\\d]+', strings))\n",
    "tokenize(all_strings)[:100]"
   ]
  },
  {
   "cell_type": "code",
   "execution_count": 10,
   "metadata": {},
   "outputs": [],
   "source": [
    "from collections import Counter\n",
    "ALL_CHARACTERS = tokenize(all_strings)\n",
    "one_gram_count = Counter(ALL_CHARACTERS)"
   ]
  },
  {
   "cell_type": "code",
   "execution_count": 11,
   "metadata": {},
   "outputs": [],
   "source": [
    "two_gram_count = Counter([ALL_CHARACTERS[i:i+2] for i in range(len(ALL_CHARACTERS)-1)])"
   ]
  },
  {
   "cell_type": "code",
   "execution_count": 12,
   "metadata": {},
   "outputs": [
    {
     "data": {
      "text/plain": [
       "[('新华', 135496), ('华社', 129108), ('20', 123427), ('01', 102612)]"
      ]
     },
     "execution_count": 12,
     "metadata": {},
     "output_type": "execute_result"
    }
   ],
   "source": [
    "two_gram_count.most_common(4)"
   ]
  },
  {
   "cell_type": "code",
   "execution_count": 13,
   "metadata": {},
   "outputs": [
    {
     "data": {
      "text/plain": [
       "[('的', 635684), ('国', 303683), ('1', 285430), ('在', 273451)]"
      ]
     },
     "execution_count": 13,
     "metadata": {},
     "output_type": "execute_result"
    }
   ],
   "source": [
    "one_gram_count.most_common(4)"
   ]
  },
  {
   "cell_type": "code",
   "execution_count": 14,
   "metadata": {},
   "outputs": [],
   "source": [
    "def get_count_prob(counts):\n",
    "    all_occurances = sum(counts.values())\n",
    "    smallest_occurance = min(counts.values())\n",
    "    def get_item_prob(item):\n",
    "        return counts[item] * 1.0 / all_occurances if item in counts else smallest_occurance * 1.0 / all_occurances\n",
    "    return get_item_prob\n",
    "\n",
    "def one_gram_get_prob_bad_example(item):\n",
    "    return one_gram_count[item] * 1.0 / sum(one_gram_count.values())"
   ]
  },
  {
   "cell_type": "code",
   "execution_count": 15,
   "metadata": {},
   "outputs": [],
   "source": [
    "one_gram_get_prob = get_count_prob(one_gram_count)\n",
    "two_gram_get_prob = get_count_prob(two_gram_count)"
   ]
  },
  {
   "cell_type": "code",
   "execution_count": 16,
   "metadata": {},
   "outputs": [
    {
     "data": {
      "text/plain": [
       "0.02181773151797367"
      ]
     },
     "execution_count": 16,
     "metadata": {},
     "output_type": "execute_result"
    }
   ],
   "source": [
    "one_gram_get_prob(\"的\")"
   ]
  },
  {
   "cell_type": "code",
   "execution_count": 17,
   "metadata": {},
   "outputs": [
    {
     "data": {
      "text/plain": [
       "3.4321662206337854e-08"
      ]
     },
     "execution_count": 17,
     "metadata": {},
     "output_type": "execute_result"
    }
   ],
   "source": [
    "one_gram_get_prob(\"四年话\")"
   ]
  },
  {
   "cell_type": "code",
   "execution_count": 18,
   "metadata": {},
   "outputs": [
    {
     "data": {
      "text/plain": [
       "0.0046504481019210625"
      ]
     },
     "execution_count": 18,
     "metadata": {},
     "output_type": "execute_result"
    }
   ],
   "source": [
    "two_gram_get_prob(\"新华\")"
   ]
  },
  {
   "cell_type": "code",
   "execution_count": 19,
   "metadata": {},
   "outputs": [
    {
     "data": {
      "text/plain": [
       "3.432166338431439e-08"
      ]
     },
     "execution_count": 19,
     "metadata": {},
     "output_type": "execute_result"
    }
   ],
   "source": [
    "two_gram_get_prob(\"四\")"
   ]
  },
  {
   "cell_type": "code",
   "execution_count": 20,
   "metadata": {},
   "outputs": [],
   "source": [
    "import time\n",
    "def time_consume(func, arg, times):\n",
    "    start_time = time.time()\n",
    "    for _ in range(times):\n",
    "        func(arg)\n",
    "    print(\"\\t\\t {} total running time is: {}\".format(func.__name__, time.time() - start_time))"
   ]
  },
  {
   "cell_type": "code",
   "execution_count": 21,
   "metadata": {},
   "outputs": [
    {
     "name": "stdout",
     "output_type": "stream",
     "text": [
      "\t\t get_item_prob total running time is: 0.010029792785644531\n"
     ]
    }
   ],
   "source": [
    "time_consume(one_gram_get_prob, \"是\", 10000)"
   ]
  },
  {
   "cell_type": "code",
   "execution_count": 22,
   "metadata": {},
   "outputs": [
    {
     "name": "stdout",
     "output_type": "stream",
     "text": [
      "\t\t one_gram_get_prob_bad_example total running time is: 1.3999018669128418\n"
     ]
    }
   ],
   "source": [
    "time_consume(one_gram_get_prob_bad_example, \"是\", 10000)"
   ]
  },
  {
   "cell_type": "markdown",
   "metadata": {},
   "source": [
    "# Compute Probability of sentences"
   ]
  },
  {
   "cell_type": "code",
   "execution_count": 23,
   "metadata": {},
   "outputs": [],
   "source": [
    "from functools import reduce\n",
    "from operator import mul, add\n",
    "def one_gram_sentence_prob(sentence):\n",
    "    return reduce(mul, [one_gram_get_prob(char) for char in sentence])"
   ]
  },
  {
   "cell_type": "code",
   "execution_count": 44,
   "metadata": {},
   "outputs": [],
   "source": [
    "def two_gram_sentence_prob(sentence):\n",
    "    sentence = \",\" + sentence\n",
    "    probs = [two_gram_get_prob(sentence[i-1:i+1]) / one_gram_get_prob(sentence[i-1])\n",
    "             if sentence[i-1:i+1] in two_gram_count \n",
    "             else one_gram_get_prob(sentence[i]) \n",
    "             for i in range(1, len(sentence))]\n",
    "    #print(probs[:10])\n",
    "    return reduce(mul, probs)\n",
    "    #return reduce(mul, [two_gram_get_prob(sentence[i:i+2]) / one_gram_get_prob(sentence[i]) for i in range(len(sentence)-1)])"
   ]
  },
  {
   "cell_type": "code",
   "execution_count": 46,
   "metadata": {},
   "outputs": [
    {
     "name": "stdout",
     "output_type": "stream",
     "text": [
      "**********\n",
      "\t\t 前天晚上吃晚饭的时候: 1.563021270632768e-22\n",
      "\t\t 前天晚上吃早饭的时候: 3.9907985363991065e-22\n",
      "**********\n",
      "\t\t 正是一个好看的小猫: 1.3976690481561745e-19\n",
      "\t\t 真是一个好看的小猫: 3.003169925034457e-20\n",
      "**********\n",
      "\t\t 我无言以对，简直: 3.690883096893807e-20\n",
      "\t\t 我简直无言以对: 3.4840360609470335e-20\n"
     ]
    }
   ],
   "source": [
    "sentence_prob_estimation_comparison(get_2_gram_string_prob, sample_sentences)"
   ]
  },
  {
   "cell_type": "code",
   "execution_count": 35,
   "metadata": {},
   "outputs": [
    {
     "data": {
      "text/plain": [
       "2.8526143980136535e-11"
      ]
     },
     "execution_count": 35,
     "metadata": {},
     "output_type": "execute_result"
    }
   ],
   "source": [
    "one_gram_sentence_prob(\"你说的对\")"
   ]
  },
  {
   "cell_type": "code",
   "execution_count": 36,
   "metadata": {},
   "outputs": [
    {
     "name": "stdout",
     "output_type": "stream",
     "text": [
      "[0.0002513375323370121, 0.006008466681708752, 0.010366480096731563, 0.0025216932548524523]\n"
     ]
    },
    {
     "data": {
      "text/plain": [
       "3.947703975809707e-11"
      ]
     },
     "execution_count": 36,
     "metadata": {},
     "output_type": "execute_result"
    }
   ],
   "source": [
    "two_gram_sentence_prob(\"你说的对\")"
   ]
  },
  {
   "cell_type": "code",
   "execution_count": 37,
   "metadata": {},
   "outputs": [
    {
     "data": {
      "text/plain": [
       "[['前天晚上吃晚饭的时候', '前天晚上吃早饭的时候'],\n",
       " ['正是一个好看的小猫', '真是一个好看的小猫'],\n",
       " ['我无言以对，简直', '我简直无言以对']]"
      ]
     },
     "execution_count": 37,
     "metadata": {},
     "output_type": "execute_result"
    }
   ],
   "source": [
    "sample_sentences = \"\"\"前天晚上吃晚饭的时候 前天晚上吃早饭的时候\n",
    "正是一个好看的小猫 真是一个好看的小猫\n",
    "我无言以对，简直 我简直无言以对\"\"\"\n",
    "sample_sentences = [pair.split() for pair in sample_sentences.split(\"\\n\")]\n",
    "sample_sentences"
   ]
  },
  {
   "cell_type": "code",
   "execution_count": 38,
   "metadata": {},
   "outputs": [],
   "source": [
    "def sentence_prob_estimation_comparison(func, pairs):\n",
    "    for p1, p2 in pairs:\n",
    "        print(\"*\"*10)\n",
    "        print(\"\\t\\t {}: {}\".format(p1, func(tokenize(p1))))\n",
    "        print(\"\\t\\t {}: {}\".format(p2, func(tokenize(p2))))\n"
   ]
  },
  {
   "cell_type": "code",
   "execution_count": 39,
   "metadata": {},
   "outputs": [
    {
     "name": "stdout",
     "output_type": "stream",
     "text": [
      "**********\n",
      "\t\t 前天晚上吃晚饭的时候: 1.495549535936482e-31\n",
      "\t\t 前天晚上吃早饭的时候: 1.7402460500283889e-31\n",
      "**********\n",
      "\t\t 正是一个好看的小猫: 3.9051374808390024e-25\n",
      "\t\t 真是一个好看的小猫: 1.2270306802427597e-25\n",
      "**********\n",
      "\t\t 我无言以对，简直: 4.31418912791861e-22\n",
      "\t\t 我简直无言以对: 4.31418912791861e-22\n"
     ]
    }
   ],
   "source": [
    "sentence_prob_estimation_comparison(one_gram_sentence_prob, sample_sentences)"
   ]
  },
  {
   "cell_type": "code",
   "execution_count": 47,
   "metadata": {},
   "outputs": [
    {
     "name": "stdout",
     "output_type": "stream",
     "text": [
      "**********\n",
      "\t\t 前天晚上吃晚饭的时候: 1.563021270632768e-22\n",
      "\t\t 前天晚上吃早饭的时候: 3.9907985363991065e-22\n",
      "**********\n",
      "\t\t 正是一个好看的小猫: 1.3976690481561745e-19\n",
      "\t\t 真是一个好看的小猫: 3.003169925034457e-20\n",
      "**********\n",
      "\t\t 我无言以对，简直: 3.690883096893807e-20\n",
      "\t\t 我简直无言以对: 3.4840360609470335e-20\n"
     ]
    }
   ],
   "source": [
    "sentence_prob_estimation_comparison(two_gram_sentence_prob, sample_sentences)"
   ]
  },
  {
   "cell_type": "code",
   "execution_count": null,
   "metadata": {},
   "outputs": [],
   "source": []
  },
  {
   "cell_type": "code",
   "execution_count": null,
   "metadata": {},
   "outputs": [],
   "source": []
  }
 ],
 "metadata": {
  "kernelspec": {
   "display_name": "Python 3",
   "language": "python",
   "name": "python3"
  },
  "language_info": {
   "codemirror_mode": {
    "name": "ipython",
    "version": 3
   },
   "file_extension": ".py",
   "mimetype": "text/x-python",
   "name": "python",
   "nbconvert_exporter": "python",
   "pygments_lexer": "ipython3",
   "version": "3.7.0"
  }
 },
 "nbformat": 4,
 "nbformat_minor": 2
}
