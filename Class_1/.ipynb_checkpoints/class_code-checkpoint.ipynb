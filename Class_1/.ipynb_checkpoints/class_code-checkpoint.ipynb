{
 "cells": [
  {
   "cell_type": "code",
   "execution_count": 47,
   "metadata": {},
   "outputs": [],
   "source": [
    "grammar = \"\"\"\n",
    "sentence = adj noun verb noun2\n",
    "adj = adj_single adj_single 的 | null\n",
    "adj_single = 漂亮  | 蓝色 | 好看\n",
    "adv = 安静地 | 激动地\n",
    "noun = 猫 | 女人 | 男人\n",
    "verb = adv 看着 | adv 坐着 \n",
    "noun2 = 桌子 | 皮球 | 钢琴\n",
    "\"\"\""
   ]
  },
  {
   "cell_type": "code",
   "execution_count": 48,
   "metadata": {},
   "outputs": [
    {
     "data": {
      "text/plain": [
       "{'sentence': [['adj', 'noun', 'verb', 'noun2']],\n",
       " 'adj': [['adj_single', 'adj_single', '的'], ['null']],\n",
       " 'adj_single': [['漂亮'], ['蓝色'], ['好看']],\n",
       " 'adv': [['安静地'], ['激动地']],\n",
       " 'noun': [['猫'], ['女人'], ['男人']],\n",
       " 'verb': [['adv', '看着'], ['adv', '坐着']],\n",
       " 'noun2': [['桌子'], ['皮球'], ['钢琴']]}"
      ]
     },
     "execution_count": 48,
     "metadata": {},
     "output_type": "execute_result"
    }
   ],
   "source": [
    "def build_grammar(grammar_str, split = \"=\"):\n",
    "    grammar_rule = {}\n",
    "    for sentence in grammar_str.split(\"\\n\"):\n",
    "        if not sentence:   continue\n",
    "        state, expr = sentence.split(split)\n",
    "        grammar_rule[state.strip()] = [e.split() for e in expr.split(\"|\")]\n",
    "    return grammar_rule\n",
    "build_grammar(grammar)"
   ]
  },
  {
   "cell_type": "code",
   "execution_count": 49,
   "metadata": {},
   "outputs": [],
   "source": [
    "import random\n",
    "def generate(grammar_rule, target):\n",
    "    if not target in grammar_rule:   return target\n",
    "    expr = random.choice(grammar_rule[target])\n",
    "    token = [generate(grammar_rule, e) for e in expr if e != 'null']\n",
    "    return \"\".join(token)"
   ]
  },
  {
   "cell_type": "code",
   "execution_count": 50,
   "metadata": {},
   "outputs": [],
   "source": [
    "grammar_rule = build_grammar(grammar)"
   ]
  },
  {
   "cell_type": "markdown",
   "metadata": {},
   "source": [
    "# DFS, BFS"
   ]
  },
  {
   "cell_type": "code",
   "execution_count": 89,
   "metadata": {},
   "outputs": [],
   "source": [
    "A = \"A\"\n",
    "B = \"B\"\n",
    "C = \"C\"\n",
    "D = \"D\"\n",
    "E = \"E\"\n",
    "graph = {\n",
    "    A : [B, B, C],\n",
    "    B : [A, C, D], \n",
    "    C : [A, B, D, E], \n",
    "    D : [B, C],\n",
    "    E : [C]\n",
    "}"
   ]
  },
  {
   "cell_type": "code",
   "execution_count": 90,
   "metadata": {},
   "outputs": [
    {
     "data": {
      "text/plain": [
       "{'A': {'B', 'C'},\n",
       " 'B': {'A', 'C', 'D'},\n",
       " 'C': {'A', 'B', 'D', 'E'},\n",
       " 'D': {'B', 'C'},\n",
       " 'E': {'C'}}"
      ]
     },
     "execution_count": 90,
     "metadata": {},
     "output_type": "execute_result"
    }
   ],
   "source": [
    "for key, item in graph.items():\n",
    "    graph[key] = set(item)\n",
    "graph"
   ]
  },
  {
   "cell_type": "code",
   "execution_count": 91,
   "metadata": {},
   "outputs": [],
   "source": [
    "import networkx\n",
    "graph_display = networkx.Graph(graph)\n",
    "%matplotlib inline"
   ]
  },
  {
   "cell_type": "code",
   "execution_count": 95,
   "metadata": {
    "scrolled": true
   },
   "outputs": [
    {
     "data": {
      "image/png": "[encoded data removed]",
      "text/plain": [
       "<Figure size 432x288 with 1 Axes>"
      ]
     },
     "metadata": {},
     "output_type": "display_data"
    }
   ],
   "source": [
    "networkx.draw(graph_display, with_labels = True)"
   ]
  },
  {
   "cell_type": "code",
   "execution_count": 96,
   "metadata": {},
   "outputs": [
    {
     "data": {
      "text/plain": [
       "{'A': {'B', 'C'},\n",
       " 'B': {'A', 'C', 'D'},\n",
       " 'C': {'A', 'B', 'D', 'E'},\n",
       " 'D': {'B', 'C'},\n",
       " 'E': {'C'}}"
      ]
     },
     "execution_count": 96,
     "metadata": {},
     "output_type": "execute_result"
    }
   ],
   "source": [
    "graph"
   ]
  },
  {
   "cell_type": "code",
   "execution_count": 103,
   "metadata": {},
   "outputs": [
    {
     "name": "stdout",
     "output_type": "stream",
     "text": [
      "I'm looking at A\n",
      "I'm looking at B\n",
      "I'm looking at C\n",
      "I'm looking at D\n",
      "I'm looking at E\n"
     ]
    }
   ],
   "source": [
    "#DFS search\n",
    "to_visit = [\"A\"]\n",
    "seen = set([])\n",
    "while to_visit:\n",
    "    node = to_visit.pop(0)\n",
    "    if node in seen: continue\n",
    "    seen.add(node)\n",
    "    print(\"I'm looking at {}\".format(node))\n",
    "    to_visit += graph[node]"
   ]
  },
  {
   "cell_type": "code",
   "execution_count": 104,
   "metadata": {},
   "outputs": [],
   "source": [
    "def search(graph, start, concat_fun):\n",
    "    to_visit = [start]\n",
    "    seen = set([])\n",
    "    while to_visit:\n",
    "        node = to_visit.pop(0)\n",
    "        if node in seen: continue\n",
    "        seen.add(node)\n",
    "        print(\"I'm looking at {}\".format(node))\n",
    "        to_visit = concat_fun(to_visit, graph[node])\n",
    "def new_discovered_important(to_visit, new_ones):\n",
    "    return new_ones + to_visit\n",
    "def old_important(to_visit, new_ones):\n",
    "    return to_visit + new_ones"
   ]
  },
  {
   "cell_type": "code",
   "execution_count": 107,
   "metadata": {},
   "outputs": [],
   "source": [
    "graph1 = {\n",
    "    \"1\":\"2 7\",\n",
    "    \"2\":\"3\",\n",
    "    \"3\":\"4\",\n",
    "    \"4\":\"5\",\n",
    "    \"5\":\"6\",\n",
    "    \"6\":\"5\",\n",
    "    \"7\":\"1 8\",\n",
    "    \"8\":\"9\",\n",
    "    \"9\":\"10\"\n",
    "}\n",
    "for key, item in graph1.items():\n",
    "    graph1[key] = item.split()"
   ]
  },
  {
   "cell_type": "code",
   "execution_count": 108,
   "metadata": {},
   "outputs": [
    {
     "name": "stdout",
     "output_type": "stream",
     "text": [
      "I'm looking at 1\n"
     ]
    },
    {
     "ename": "NameError",
     "evalue": "name 'concat_func' is not defined",
     "output_type": "error",
     "traceback": [
      "\u001b[0;31m---------------------------------------------------------------------------\u001b[0m",
      "\u001b[0;31mNameError\u001b[0m                                 Traceback (most recent call last)",
      "\u001b[0;32m<ipython-input-108-40176f186db6>\u001b[0m in \u001b[0;36m<module>\u001b[0;34m()\u001b[0m\n\u001b[0;32m----> 1\u001b[0;31m \u001b[0msearch\u001b[0m\u001b[0;34m(\u001b[0m\u001b[0mgraph1\u001b[0m\u001b[0;34m,\u001b[0m \u001b[0;34m\"1\"\u001b[0m\u001b[0;34m,\u001b[0m \u001b[0mnew_discovered_important\u001b[0m\u001b[0;34m)\u001b[0m\u001b[0;34m\u001b[0m\u001b[0m\n\u001b[0m",
      "\u001b[0;32m<ipython-input-104-12600529ba1a>\u001b[0m in \u001b[0;36msearch\u001b[0;34m(graph, start, concat_fun)\u001b[0m\n\u001b[1;32m      7\u001b[0m         \u001b[0mseen\u001b[0m\u001b[0;34m.\u001b[0m\u001b[0madd\u001b[0m\u001b[0;34m(\u001b[0m\u001b[0mnode\u001b[0m\u001b[0;34m)\u001b[0m\u001b[0;34m\u001b[0m\u001b[0m\n\u001b[1;32m      8\u001b[0m         \u001b[0mprint\u001b[0m\u001b[0;34m(\u001b[0m\u001b[0;34m\"I'm looking at {}\"\u001b[0m\u001b[0;34m.\u001b[0m\u001b[0mformat\u001b[0m\u001b[0;34m(\u001b[0m\u001b[0mnode\u001b[0m\u001b[0;34m)\u001b[0m\u001b[0;34m)\u001b[0m\u001b[0;34m\u001b[0m\u001b[0m\n\u001b[0;32m----> 9\u001b[0;31m         \u001b[0mto_visit\u001b[0m \u001b[0;34m=\u001b[0m \u001b[0mconcat_func\u001b[0m\u001b[0;34m(\u001b[0m\u001b[0mto_visit\u001b[0m\u001b[0;34m,\u001b[0m \u001b[0mgraph\u001b[0m\u001b[0;34m[\u001b[0m\u001b[0mnode\u001b[0m\u001b[0;34m]\u001b[0m\u001b[0;34m)\u001b[0m\u001b[0;34m\u001b[0m\u001b[0m\n\u001b[0m\u001b[1;32m     10\u001b[0m \u001b[0;32mdef\u001b[0m \u001b[0mnew_discovered_important\u001b[0m\u001b[0;34m(\u001b[0m\u001b[0mto_visit\u001b[0m\u001b[0;34m,\u001b[0m \u001b[0mnew_ones\u001b[0m\u001b[0;34m)\u001b[0m\u001b[0;34m:\u001b[0m\u001b[0;34m\u001b[0m\u001b[0m\n\u001b[1;32m     11\u001b[0m     \u001b[0;32mreturn\u001b[0m \u001b[0mnew_ones\u001b[0m \u001b[0;34m+\u001b[0m \u001b[0mto_visit\u001b[0m\u001b[0;34m\u001b[0m\u001b[0m\n",
      "\u001b[0;31mNameError\u001b[0m: name 'concat_func' is not defined"
     ]
    }
   ],
   "source": [
    "search(graph1, \"1\", new_discovered_important)"
   ]
  },
  {
   "cell_type": "code",
   "execution_count": null,
   "metadata": {},
   "outputs": [],
   "source": []
  }
 ],
 "metadata": {
  "kernelspec": {
   "display_name": "Python 3",
   "language": "python",
   "name": "python3"
  },
  "language_info": {
   "codemirror_mode": {
    "name": "ipython",
    "version": 3
   },
   "file_extension": ".py",
   "mimetype": "text/x-python",
   "name": "python",
   "nbconvert_exporter": "python",
   "pygments_lexer": "ipython3",
   "version": "3.7.0"
  }
 },
 "nbformat": 4,
 "nbformat_minor": 2
}
