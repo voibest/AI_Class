{
 "cells": [
  {
   "cell_type": "code",
   "execution_count": 1,
   "metadata": {},
   "outputs": [],
   "source": [
    "grammar = \"\"\"\n",
    "sentence = adj noun verb noun2\n",
    "adj = adj_single adj_single 的 | adj_single 的 | null\n",
    "adj_single = 漂亮  | 蓝色 | 好看\n",
    "adv = 安静地 | 激动地\n",
    "noun = 猫 | 女人 | 男人\n",
    "verb = adv 看着 | adv 坐着 \n",
    "noun2 = 桌子 | 皮球 | 钢琴\n",
    "\"\"\""
   ]
  },
  {
   "cell_type": "code",
   "execution_count": 2,
   "metadata": {},
   "outputs": [
    {
     "data": {
      "text/plain": [
       "['1', '2', '3']"
      ]
     },
     "execution_count": 2,
     "metadata": {},
     "output_type": "execute_result"
    }
   ],
   "source": [
    "\"   1 2 3\".split() "
   ]
  },
  {
   "cell_type": "code",
   "execution_count": 3,
   "metadata": {},
   "outputs": [
    {
     "data": {
      "text/plain": [
       "{'sentence': [['adj', 'noun', 'verb', 'noun2']],\n",
       " 'adj': [['adj_single', 'adj_single', '的'], ['adj_single', '的'], ['null']],\n",
       " 'adj_single': [['漂亮'], ['蓝色'], ['好看']],\n",
       " 'adv': [['安静地'], ['激动地']],\n",
       " 'noun': [['猫'], ['女人'], ['男人']],\n",
       " 'verb': [['adv', '看着'], ['adv', '坐着']],\n",
       " 'noun2': [['桌子'], ['皮球'], ['钢琴']]}"
      ]
     },
     "execution_count": 3,
     "metadata": {},
     "output_type": "execute_result"
    }
   ],
   "source": [
    "def my_build_grammar(grammar_str, split = \"=\"):\n",
    "    grammar_rule = {}\n",
    "    for each_line in grammar_str.split(\"\\n\"):\n",
    "        if not each_line.split(): continue\n",
    "        key, rules = each_line.split(split)\n",
    "        rules = [rule.split() for rule in rules.split(\"|\")]\n",
    "        grammar_rule[key.strip()] = rules\n",
    "    return grammar_rule\n",
    "my_build_grammar(grammar)"
   ]
  },
  {
   "cell_type": "code",
   "execution_count": 4,
   "metadata": {},
   "outputs": [
    {
     "data": {
      "text/plain": [
       "{'sentence': [['adj', 'noun', 'verb', 'noun2']],\n",
       " 'adj': [['adj_single', 'adj_single', '的'], ['adj_single', '的'], ['null']],\n",
       " 'adj_single': [['漂亮'], ['蓝色'], ['好看']],\n",
       " 'adv': [['安静地'], ['激动地']],\n",
       " 'noun': [['猫'], ['女人'], ['男人']],\n",
       " 'verb': [['adv', '看着'], ['adv', '坐着']],\n",
       " 'noun2': [['桌子'], ['皮球'], ['钢琴']]}"
      ]
     },
     "execution_count": 4,
     "metadata": {},
     "output_type": "execute_result"
    }
   ],
   "source": [
    "def build_grammar(grammar_str, split = \"=\"):\n",
    "    grammar_rule = {}\n",
    "    for sentence in grammar_str.split(\"\\n\"):\n",
    "        if not sentence:   continue\n",
    "        state, expr = sentence.split(split)\n",
    "        grammar_rule[state.strip()] = [e.split() for e in expr.split(\"|\")]\n",
    "    return grammar_rule\n",
    "build_grammar(grammar)"
   ]
  },
  {
   "cell_type": "code",
   "execution_count": 5,
   "metadata": {},
   "outputs": [
    {
     "data": {
      "text/plain": [
       "'激动地看着'"
      ]
     },
     "execution_count": 5,
     "metadata": {},
     "output_type": "execute_result"
    }
   ],
   "source": [
    "import random\n",
    "def my_generate(grammar_rules, start):\n",
    "    if not start in grammar_rules: return start\n",
    "    get_rule = random.choice(grammar_rules[start])\n",
    "    tokens = [my_generate(grammar_rules, e) for e in get_rule if e != 'null']\n",
    "    return \"\".join(tokens)\n",
    "my_generate(build_grammar(grammar, \"=\"), \"verb\")"
   ]
  },
  {
   "cell_type": "code",
   "execution_count": 6,
   "metadata": {},
   "outputs": [],
   "source": [
    "import random\n",
    "def generate(grammar_rule, target):\n",
    "    if not target in grammar_rule:   return target\n",
    "    expr = random.choice(grammar_rule[target])\n",
    "    token = [generate(grammar_rule, e) for e in expr if e != 'null']\n",
    "    return \"\".join(token)"
   ]
  },
  {
   "cell_type": "code",
   "execution_count": 7,
   "metadata": {},
   "outputs": [
    {
     "data": {
      "text/plain": [
       "'安静地坐着'"
      ]
     },
     "execution_count": 7,
     "metadata": {},
     "output_type": "execute_result"
    }
   ],
   "source": [
    "generate(build_grammar(grammar), \"verb\")"
   ]
  },
  {
   "cell_type": "markdown",
   "metadata": {},
   "source": [
    "# DFS, BFS"
   ]
  },
  {
   "cell_type": "code",
   "execution_count": 8,
   "metadata": {},
   "outputs": [],
   "source": [
    "A = \"A\"\n",
    "B = \"B\"\n",
    "C = \"C\"\n",
    "D = \"D\"\n",
    "E = \"E\"\n",
    "graph = {\n",
    "    A : [B, B, C],\n",
    "    B : [A, C, D], \n",
    "    C : [A, B, D, E], \n",
    "    D : [B, C],\n",
    "    E : [C]\n",
    "}"
   ]
  },
  {
   "cell_type": "code",
   "execution_count": 9,
   "metadata": {},
   "outputs": [
    {
     "data": {
      "text/plain": [
       "{'A': {'B', 'C'},\n",
       " 'B': {'A', 'C', 'D'},\n",
       " 'C': {'A', 'B', 'D', 'E'},\n",
       " 'D': {'B', 'C'},\n",
       " 'E': {'C'}}"
      ]
     },
     "execution_count": 9,
     "metadata": {},
     "output_type": "execute_result"
    }
   ],
   "source": [
    "for key, item in graph.items():\n",
    "    graph[key] = set(item)\n",
    "graph"
   ]
  },
  {
   "cell_type": "code",
   "execution_count": 10,
   "metadata": {},
   "outputs": [],
   "source": [
    "import networkx\n",
    "graph_display = networkx.Graph(graph)\n",
    "%matplotlib inline"
   ]
  },
  {
   "cell_type": "code",
   "execution_count": 11,
   "metadata": {
    "scrolled": true
   },
   "outputs": [
    {
     "data": {
      "image/png": "[encoded data removed]",
      "text/plain": [
       "<Figure size 432x288 with 1 Axes>"
      ]
     },
     "metadata": {},
     "output_type": "display_data"
    }
   ],
   "source": [
    "networkx.draw(graph_display, with_labels = True)"
   ]
  },
  {
   "cell_type": "code",
   "execution_count": 12,
   "metadata": {},
   "outputs": [
    {
     "data": {
      "text/plain": [
       "{'A': {'B', 'C'},\n",
       " 'B': {'A', 'C', 'D'},\n",
       " 'C': {'A', 'B', 'D', 'E'},\n",
       " 'D': {'B', 'C'},\n",
       " 'E': {'C'}}"
      ]
     },
     "execution_count": 12,
     "metadata": {},
     "output_type": "execute_result"
    }
   ],
   "source": [
    "graph"
   ]
  },
  {
   "cell_type": "code",
   "execution_count": 13,
   "metadata": {},
   "outputs": [
    {
     "name": "stdout",
     "output_type": "stream",
     "text": [
      "I'm looking at A\n",
      "I'm looking at C\n",
      "I'm looking at B\n",
      "I'm looking at D\n",
      "I'm looking at E\n"
     ]
    }
   ],
   "source": [
    "#DFS search\n",
    "to_visit = [\"A\"]\n",
    "seen = set([])\n",
    "while to_visit:\n",
    "    node = to_visit.pop(0)\n",
    "    if node in seen: continue\n",
    "    seen.add(node)\n",
    "    print(\"I'm looking at {}\".format(node))\n",
    "    to_visit += graph[node]"
   ]
  },
  {
   "cell_type": "code",
   "execution_count": 14,
   "metadata": {},
   "outputs": [],
   "source": [
    "def search(graph, start, concat_fun):\n",
    "    to_visit = [start]\n",
    "    seen = set([])\n",
    "    while to_visit:\n",
    "        node = to_visit.pop(0)\n",
    "        if node in seen: continue\n",
    "        seen.add(node)\n",
    "        print(\"I'm looking at {}\".format(node))\n",
    "        to_visit = concat_fun(to_visit, graph[node])\n",
    "def new_discovered_important(to_visit, new_ones):\n",
    "    return new_ones + to_visit\n",
    "def old_important(to_visit, new_ones):\n",
    "    return to_visit + new_ones"
   ]
  },
  {
   "cell_type": "code",
   "execution_count": 15,
   "metadata": {},
   "outputs": [],
   "source": [
    "graph1 = {\n",
    "    \"1\":\"2 7\",\n",
    "    \"2\":\"3\",\n",
    "    \"3\":\"4\",\n",
    "    \"4\":\"5\",\n",
    "    \"5\":\"6\",\n",
    "    \"6\":\"5\",\n",
    "    \"7\":\"1 8\",\n",
    "    \"8\":\"9\",\n",
    "    \"9\":\"10\",\n",
    "    \"10\":\"9\"\n",
    "}\n",
    "for key, item in graph1.items():\n",
    "    graph1[key] = item.split()"
   ]
  },
  {
   "cell_type": "code",
   "execution_count": 16,
   "metadata": {},
   "outputs": [
    {
     "name": "stdout",
     "output_type": "stream",
     "text": [
      "I'm looking at 1\n",
      "I'm looking at 2\n",
      "I'm looking at 3\n",
      "I'm looking at 4\n",
      "I'm looking at 5\n",
      "I'm looking at 6\n",
      "I'm looking at 7\n",
      "I'm looking at 8\n",
      "I'm looking at 9\n",
      "I'm looking at 10\n"
     ]
    }
   ],
   "source": [
    "#DFS\n",
    "search(graph1, \"1\", new_discovered_important)"
   ]
  },
  {
   "cell_type": "code",
   "execution_count": 17,
   "metadata": {},
   "outputs": [
    {
     "name": "stdout",
     "output_type": "stream",
     "text": [
      "I'm looking at 1\n",
      "I'm looking at 2\n",
      "I'm looking at 7\n",
      "I'm looking at 3\n",
      "I'm looking at 8\n",
      "I'm looking at 4\n",
      "I'm looking at 9\n",
      "I'm looking at 5\n",
      "I'm looking at 10\n",
      "I'm looking at 6\n"
     ]
    }
   ],
   "source": [
    "#BFS\n",
    "search(graph1, \"1\", old_important)"
   ]
  },
  {
   "cell_type": "code",
   "execution_count": 18,
   "metadata": {},
   "outputs": [],
   "source": [
    "from functools import partial\n",
    "dfs = partial(search, start = \"1\", concat_fun = new_discovered_important)\n",
    "bfs = partial(search, start = \"1\", concat_fun = old_important)"
   ]
  },
  {
   "cell_type": "code",
   "execution_count": 19,
   "metadata": {},
   "outputs": [
    {
     "name": "stdout",
     "output_type": "stream",
     "text": [
      "I'm looking at 1\n",
      "I'm looking at 2\n",
      "I'm looking at 3\n",
      "I'm looking at 4\n",
      "I'm looking at 5\n",
      "I'm looking at 6\n",
      "I'm looking at 7\n",
      "I'm looking at 8\n",
      "I'm looking at 9\n",
      "I'm looking at 10\n"
     ]
    }
   ],
   "source": [
    "dfs(graph1)"
   ]
  },
  {
   "cell_type": "code",
   "execution_count": 20,
   "metadata": {},
   "outputs": [
    {
     "name": "stdout",
     "output_type": "stream",
     "text": [
      "I'm looking at 1\n",
      "I'm looking at 2\n",
      "I'm looking at 7\n",
      "I'm looking at 3\n",
      "I'm looking at 8\n",
      "I'm looking at 4\n",
      "I'm looking at 9\n",
      "I'm looking at 5\n",
      "I'm looking at 10\n",
      "I'm looking at 6\n"
     ]
    }
   ],
   "source": [
    "bfs(graph1)"
   ]
  },
  {
   "cell_type": "markdown",
   "metadata": {},
   "source": [
    "# MAPPING"
   ]
  },
  {
   "cell_type": "code",
   "execution_count": 21,
   "metadata": {},
   "outputs": [],
   "source": [
    "#cities\n",
    "new_york = \"New York\"\n",
    "beijing = \"Beijing\"\n",
    "new_orleans = \"New Orleans\"\n",
    "washington = \"Washington\"\n",
    "madrid = \"Madrid\"\n",
    "paris = \"Paris\"\n",
    "boston = \"Boston\"\n",
    "barcelona = \"Barcelona\"\n",
    "lisbon = \"Lisbon\"\n",
    "la = \"Los Angeles\""
   ]
  },
  {
   "cell_type": "code",
   "execution_count": 74,
   "metadata": {},
   "outputs": [],
   "source": [
    "line = {\n",
    "    new_york : {beijing, new_orleans, washington, la, boston, madrid, lisbon},\n",
    "    beijing : {new_york, la, madrid, washington},\n",
    "    new_orleans : {new_york},\n",
    "    washington : {new_york, beijing},\n",
    "    madrid : {new_york, barcelona, paris, lisbon, beijing},\n",
    "    paris : {madrid, barcelona, la, lisbon},\n",
    "    boston : {new_york, lisbon},\n",
    "    barcelona : {madrid, paris},\n",
    "    lisbon : {madrid, new_york, paris, boston},\n",
    "    la : {paris, beijing, new_york}\n",
    "}"
   ]
  },
  {
   "cell_type": "code",
   "execution_count": 75,
   "metadata": {},
   "outputs": [],
   "source": [
    "airline = networkx.Graph(line)"
   ]
  },
  {
   "cell_type": "code",
   "execution_count": 76,
   "metadata": {},
   "outputs": [
    {
     "data": {
      "image/png": "[encoded data removed]",
      "text/plain": [
       "<Figure size 432x288 with 1 Axes>"
      ]
     },
     "metadata": {},
     "output_type": "display_data"
    }
   ],
   "source": [
    "%matplotlib inline\n",
    "networkx.draw(airline, with_labels=True)"
   ]
  },
  {
   "cell_type": "code",
   "execution_count": 77,
   "metadata": {},
   "outputs": [
    {
     "data": {
      "text/plain": [
       "'Los Angeles -> Beijing -> New York -> Paris -> Madrid -> Washington -> Lisbon'"
      ]
     },
     "execution_count": 77,
     "metadata": {},
     "output_type": "execute_result"
    }
   ],
   "source": [
    "def my_search_destination(start, end, airline):\n",
    "    path, to_visit = [], [start]\n",
    "    seen = set()\n",
    "    while to_visit:\n",
    "        curr_city = to_visit.pop(0)\n",
    "        if curr_city in seen: continue\n",
    "        path.append(curr_city)\n",
    "        seen.add(curr_city)\n",
    "        if curr_city == end:\n",
    "            break\n",
    "        to_visit = to_visit + list(airline[curr_city])\n",
    "    return \" -> \".join(path)\n",
    "my_search_destination(la, lisbon, line)"
   ]
  },
  {
   "cell_type": "code",
   "execution_count": 78,
   "metadata": {},
   "outputs": [],
   "source": [
    "def search_destination(start, end, airline):\n",
    "    result, to_visit = [], [start]\n",
    "    visited = set([])\n",
    "    while to_visit:\n",
    "        current_city = to_visit.pop(0)\n",
    "        if current_city in visited: continue\n",
    "        visited.add(current_city)\n",
    "        result.append(current_city)\n",
    "        if current_city == end:\n",
    "            break\n",
    "        to_visit = list(airline[current_city]) + to_visit\n",
    "    return \" -> \".join(result)"
   ]
  },
  {
   "cell_type": "code",
   "execution_count": 79,
   "metadata": {},
   "outputs": [
    {
     "data": {
      "text/plain": [
       "'Los Angeles -> Beijing -> Madrid -> Lisbon'"
      ]
     },
     "execution_count": 79,
     "metadata": {},
     "output_type": "execute_result"
    }
   ],
   "source": [
    "search_destination(la, lisbon, line)"
   ]
  },
  {
   "cell_type": "code",
   "execution_count": 80,
   "metadata": {},
   "outputs": [],
   "source": [
    "def search_destination_shortest(start, end, airline):\n",
    "    if start == end:\n",
    "        return \"No need to Travel!\"\n",
    "    pathes = [[start]]\n",
    "    shortest_path, shortest_len = [], 1000\n",
    "    visited = set()\n",
    "    while pathes:\n",
    "        path = pathes.pop(0)\n",
    "        current_city = path[-1]\n",
    "        if current_city in visited: continue\n",
    "        if not current_city is end:\n",
    "            visited.add(current_city)\n",
    "            for new_city in airline[current_city]:\n",
    "                #print(new_city)\n",
    "                new_path = path + [new_city]\n",
    "                pathes.append(new_path)\n",
    "        else:\n",
    "            shortest_len = min(shortest_len, len(path))\n",
    "            #if shortest_len < len(path): break\n",
    "            shortest_path.append(path)\n",
    "    return shortest_path"
   ]
  },
  {
   "cell_type": "code",
   "execution_count": 81,
   "metadata": {},
   "outputs": [
    {
     "data": {
      "text/plain": [
       "[['Los Angeles', 'New York', 'Lisbon'],\n",
       " ['Los Angeles', 'Paris', 'Lisbon'],\n",
       " ['Los Angeles', 'Beijing', 'Madrid', 'Lisbon'],\n",
       " ['Los Angeles', 'New York', 'Boston', 'Lisbon']]"
      ]
     },
     "execution_count": 81,
     "metadata": {},
     "output_type": "execute_result"
    }
   ],
   "source": [
    "search_destination_shortest(la, lisbon, line)\n",
    "#print(airline)"
   ]
  },
  {
   "cell_type": "code",
   "execution_count": null,
   "metadata": {},
   "outputs": [],
   "source": []
  },
  {
   "cell_type": "code",
   "execution_count": null,
   "metadata": {},
   "outputs": [],
   "source": []
  }
 ],
 "metadata": {
  "kernelspec": {
   "display_name": "Python 3",
   "language": "python",
   "name": "python3"
  },
  "language_info": {
   "codemirror_mode": {
    "name": "ipython",
    "version": 3
   },
   "file_extension": ".py",
   "mimetype": "text/x-python",
   "name": "python",
   "nbconvert_exporter": "python",
   "pygments_lexer": "ipython3",
   "version": "3.7.0"
  }
 },
 "nbformat": 4,
 "nbformat_minor": 2
}
