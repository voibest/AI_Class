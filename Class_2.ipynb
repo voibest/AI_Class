{
 "cells": [
  {
   "cell_type": "code",
   "execution_count": 1,
   "metadata": {},
   "outputs": [],
   "source": [
    "import pandas as pd\n",
    "import numpy as np\n",
    "import re\n",
    "import matplotlib.pyplot as plt"
   ]
  },
  {
   "cell_type": "code",
   "execution_count": 2,
   "metadata": {},
   "outputs": [
    {
     "name": "stdout",
     "output_type": "stream",
     "text": [
      "x 80k_articles.txt\n"
     ]
    }
   ],
   "source": [
    "!tar -zxvf ../jupyters_and_slides/2018-autumn/80k.tar.gz"
   ]
  },
  {
   "cell_type": "code",
   "execution_count": 3,
   "metadata": {},
   "outputs": [
    {
     "name": "stdout",
     "output_type": "stream",
     "text": [
      "10k_articles.txt \u001b[34mClass_1\u001b[m\u001b[m          README.md\r\n",
      "80k_articles.txt Class_2.ipynb    Untitled.ipynb\r\n"
     ]
    }
   ],
   "source": [
    "!ls"
   ]
  },
  {
   "cell_type": "code",
   "execution_count": 4,
   "metadata": {},
   "outputs": [],
   "source": [
    "all_string = open(\"80k_articles.txt\").read()"
   ]
  },
  {
   "cell_type": "code",
   "execution_count": 5,
   "metadata": {},
   "outputs": [
    {
     "data": {
      "text/plain": [
       "34475997"
      ]
     },
     "execution_count": 5,
     "metadata": {},
     "output_type": "execute_result"
    }
   ],
   "source": [
    "len(all_string)"
   ]
  },
  {
   "cell_type": "code",
   "execution_count": 30,
   "metadata": {},
   "outputs": [
    {
     "data": {
      "text/plain": [
       "'新华社照片，东莞（广东），2017年4月7日\\\\n（体育）（9）篮球——CBA总决赛第四场：广东对阵新疆\\\\n4月7日，广东东莞银行队球员易建联在比赛中扣篮。\\\\n当日，在2016-2017赛季中国男子篮球'"
      ]
     },
     "execution_count": 30,
     "metadata": {},
     "output_type": "execute_result"
    }
   ],
   "source": [
    "all_string[:100]"
   ]
  },
  {
   "cell_type": "code",
   "execution_count": 31,
   "metadata": {},
   "outputs": [],
   "source": [
    "def tokenize(string):\n",
    "    string = string.replace(u'\\\\n', u'')\n",
    "    return \"\".join(re.findall('[\\w|\\d]+', string))"
   ]
  },
  {
   "cell_type": "code",
   "execution_count": 32,
   "metadata": {},
   "outputs": [],
   "source": [
    "ALL_CHARACTER = tokenize(all_string)"
   ]
  },
  {
   "cell_type": "code",
   "execution_count": 33,
   "metadata": {},
   "outputs": [
    {
     "data": {
      "text/plain": [
       "29136396"
      ]
     },
     "execution_count": 33,
     "metadata": {},
     "output_type": "execute_result"
    }
   ],
   "source": [
    "len(ALL_CHARACTER)"
   ]
  },
  {
   "cell_type": "code",
   "execution_count": 34,
   "metadata": {},
   "outputs": [
    {
     "data": {
      "text/plain": [
       "'新华社照片东莞广东2017年4月7日体育9篮球CBA总决赛第四场广东对阵新疆4月7日广东东莞银行队球员易建联在比赛中扣篮当日在20162017赛季中国男子篮球职业联赛CBA总决赛第四场比赛中广东东莞银'"
      ]
     },
     "execution_count": 34,
     "metadata": {},
     "output_type": "execute_result"
    }
   ],
   "source": [
    "ALL_CHARACTER[:100]"
   ]
  },
  {
   "cell_type": "code",
   "execution_count": 29,
   "metadata": {},
   "outputs": [
    {
     "data": {
      "text/plain": [
       "'新华社照片，东莞（广东），2017年4月7日（体育）（9）篮球——CBA总决赛第四场：广东对阵新疆4月7日，广东东莞银行队球员易建联在比赛中扣篮。当日，在2016-2017赛季中国男子篮球职业联赛（C'"
      ]
     },
     "execution_count": 29,
     "metadata": {},
     "output_type": "execute_result"
    }
   ],
   "source": [
    "all_string.replace(u'\\\\n', u'')[:100]"
   ]
  },
  {
   "cell_type": "code",
   "execution_count": 35,
   "metadata": {},
   "outputs": [],
   "source": [
    "from collections import Counter"
   ]
  },
  {
   "cell_type": "code",
   "execution_count": 36,
   "metadata": {},
   "outputs": [],
   "source": [
    "all_character_counts = Counter(ALL_CHARACTER)"
   ]
  },
  {
   "cell_type": "code",
   "execution_count": 37,
   "metadata": {},
   "outputs": [
    {
     "data": {
      "text/plain": [
       "[('的', 635684),\n",
       " ('国', 303683),\n",
       " ('1', 285430),\n",
       " ('在', 273451),\n",
       " ('一', 255874),\n",
       " ('中', 249541),\n",
       " ('日', 248419),\n",
       " ('2', 247140),\n",
       " ('新', 243975),\n",
       " ('0', 240159)]"
      ]
     },
     "execution_count": 37,
     "metadata": {},
     "output_type": "execute_result"
    }
   ],
   "source": [
    "all_character_counts.most_common()[:10]"
   ]
  },
  {
   "cell_type": "code",
   "execution_count": 44,
   "metadata": {},
   "outputs": [
    {
     "data": {
      "text/plain": [
       "635684"
      ]
     },
     "execution_count": 44,
     "metadata": {},
     "output_type": "execute_result"
    }
   ],
   "source": [
    "M = all_character_counts.most_common()[0][1]\n",
    "M"
   ]
  },
  {
   "cell_type": "code",
   "execution_count": 48,
   "metadata": {},
   "outputs": [
    {
     "data": {
      "text/plain": [
       "[<matplotlib.lines.Line2D at 0x1145d3668>]"
      ]
     },
     "execution_count": 48,
     "metadata": {},
     "output_type": "execute_result"
    },
    {
     "data": {
      "image/png": "[encoded data removed]",
      "text/plain": [
       "<Figure size 432x288 with 1 Axes>"
      ]
     },
     "metadata": {
      "needs_background": "light"
     },
     "output_type": "display_data"
    }
   ],
   "source": [
    "from matplotlib.pyplot import xscale, yscale, title, plot\n",
    "yscale(\"log\"); xscale(\"log\"); title(\"frequency of words\")\n",
    "plot([c for (w, c) in all_character_counts.most_common()])\n",
    "plot([M/i for i in range(1, len(all_character_counts)+1)])"
   ]
  },
  {
   "cell_type": "code",
   "execution_count": 49,
   "metadata": {},
   "outputs": [
    {
     "data": {
      "text/plain": [
       "collections.Counter"
      ]
     },
     "execution_count": 49,
     "metadata": {},
     "output_type": "execute_result"
    }
   ],
   "source": [
    "type(all_character_counts)"
   ]
  },
  {
   "cell_type": "code",
   "execution_count": 80,
   "metadata": {},
   "outputs": [
    {
     "data": {
      "text/plain": [
       "0"
      ]
     },
     "execution_count": 80,
     "metadata": {},
     "output_type": "execute_result"
    }
   ],
   "source": [
    "all_character_counts[\"💃\"]"
   ]
  },
  {
   "cell_type": "code",
   "execution_count": 82,
   "metadata": {},
   "outputs": [
    {
     "data": {
      "text/plain": [
       "'yes'"
      ]
     },
     "execution_count": 82,
     "metadata": {},
     "output_type": "execute_result"
    }
   ],
   "source": [
    "a = 1\n",
    "\"yes\" if a == 1 else \"No\""
   ]
  },
  {
   "cell_type": "code",
   "execution_count": 138,
   "metadata": {},
   "outputs": [],
   "source": [
    "def get_prob_func(counter):\n",
    "    total_frequency = sum(counter.values())\n",
    "    #min_frequency = min(counter.values())\n",
    "    def get_prob1(item):\n",
    "        #return counter[item]/total_frequency if counter[item] != 0 else min_frequency/total_frequency\n",
    "        return counter[item]/total_frequency\n",
    "    return get_prob1\n",
    "\n",
    "get_prob1 = get_prob_func(all_character_counts)\n",
    "def get_prob2(item):\n",
    "    return all_character_counts[item] / sum(all_character_counts.values())\n",
    "        "
   ]
  },
  {
   "cell_type": "code",
   "execution_count": 139,
   "metadata": {},
   "outputs": [],
   "source": [
    "import time\n",
    "def compute_running_time(func, arg, times):\n",
    "    start_time = time.time()\n",
    "    for _ in range(times):\n",
    "        func(arg)\n",
    "    print('\\t\\t {} total running time is {}'.format(func.__name__, time.time() - start_time))\n"
   ]
  },
  {
   "cell_type": "code",
   "execution_count": 102,
   "metadata": {},
   "outputs": [
    {
     "name": "stdout",
     "output_type": "stream",
     "text": [
      "\t\t get_prob1 total running time is 0.003162860870361328\n"
     ]
    }
   ],
   "source": [
    "compute_running_time(get_prob1, \"是\", 10000)"
   ]
  },
  {
   "cell_type": "code",
   "execution_count": 103,
   "metadata": {},
   "outputs": [
    {
     "name": "stdout",
     "output_type": "stream",
     "text": [
      "\t\t get_prob2 total running time is 0.37737083435058594\n"
     ]
    }
   ],
   "source": [
    "compute_running_time(get_prob2, \"是\", 10000)"
   ]
  },
  {
   "cell_type": "code",
   "execution_count": 129,
   "metadata": {},
   "outputs": [],
   "source": [
    "from functools import reduce\n",
    "from operator import mul, add\n",
    "get_char_prob = get_prob_func(all_character_counts)"
   ]
  },
  {
   "cell_type": "code",
   "execution_count": 130,
   "metadata": {},
   "outputs": [],
   "source": [
    "def get_prob_string(string):\n",
    "    return reduce(mul, [get_char_prob(i) for i in string])"
   ]
  },
  {
   "cell_type": "code",
   "execution_count": 123,
   "metadata": {},
   "outputs": [
    {
     "data": {
      "text/plain": [
       "1.3886987513513673e-16"
      ]
     },
     "execution_count": 123,
     "metadata": {},
     "output_type": "execute_result"
    }
   ],
   "source": [
    "get_prob_string(\"你好我是谁\")"
   ]
  },
  {
   "cell_type": "code",
   "execution_count": 124,
   "metadata": {},
   "outputs": [
    {
     "data": {
      "text/plain": [
       "1.5049193598450742e-17"
      ]
     },
     "execution_count": 124,
     "metadata": {},
     "output_type": "execute_result"
    }
   ],
   "source": [
    "get_prob_string(\"你好你是猪\")"
   ]
  },
  {
   "cell_type": "code",
   "execution_count": 125,
   "metadata": {},
   "outputs": [
    {
     "data": {
      "text/plain": [
       "1.5049193598450742e-17"
      ]
     },
     "execution_count": 125,
     "metadata": {},
     "output_type": "execute_result"
    }
   ],
   "source": [
    "get_prob_string(\"你是猪你好\")"
   ]
  },
  {
   "cell_type": "code",
   "execution_count": 126,
   "metadata": {},
   "outputs": [],
   "source": [
    "pair = \"\"\"前天晚上吃晚饭的时候\n",
    "前天晚上吃早饭的时候\"\"\".split('\\n')\n",
    "\n",
    "pair2 = \"\"\"正是一个好看的小猫\n",
    "真是一个好看的小猫\"\"\".split('\\n')\n",
    "\n",
    "pair3 = \"\"\"我无言以对，简直\n",
    "我简直无言以对\"\"\".split('\\n')"
   ]
  },
  {
   "cell_type": "code",
   "execution_count": 127,
   "metadata": {},
   "outputs": [],
   "source": [
    "pairs = [pair, pair2, pair3]"
   ]
  },
  {
   "cell_type": "code",
   "execution_count": 128,
   "metadata": {},
   "outputs": [],
   "source": [
    "def get_prob_performance(func, pairs):\n",
    "    for p1, p2 in pairs:\n",
    "        print(\"**\"*18)\n",
    "        print(\"\\t\\t{} has a probablity of {}\".format(p1, func(tokenize(p1))))\n",
    "        print(\"\\t\\t{} has a probablity of {}\".format(p2, func(tokenize(p2))))"
   ]
  },
  {
   "cell_type": "code",
   "execution_count": 140,
   "metadata": {},
   "outputs": [
    {
     "name": "stdout",
     "output_type": "stream",
     "text": [
      "************************************\n",
      "\t\t前天晚上吃晚饭的时候 has a probablity of 1.4954068467307683e-31\n",
      "\t\t前天晚上吃早饭的时候 has a probablity of 1.740080014520599e-31\n",
      "************************************\n",
      "\t\t正是一个好看的小猫 has a probablity of 3.9048021517514516e-25\n",
      "\t\t真是一个好看的小猫 has a probablity of 1.2269253167106376e-25\n",
      "************************************\n",
      "\t\t我无言以对，简直 has a probablity of 4.313900994419309e-22\n",
      "\t\t我简直无言以对 has a probablity of 4.313900994419309e-22\n"
     ]
    }
   ],
   "source": [
    "get_prob_performance(get_prob_string, pairs)"
   ]
  },
  {
   "cell_type": "markdown",
   "metadata": {},
   "source": [
    "# 2 gram"
   ]
  },
  {
   "cell_type": "code",
   "execution_count": 111,
   "metadata": {},
   "outputs": [],
   "source": [
    "gram_length = 2\n",
    "two_gram_counts = Counter(ALL_CHARACTER[i:i+gram_length] for i in range(len(ALL_CHARACTER)-1))"
   ]
  },
  {
   "cell_type": "code",
   "execution_count": 131,
   "metadata": {},
   "outputs": [],
   "source": [
    "get_pair_prob = get_prob_func(two_gram_counts)"
   ]
  },
  {
   "cell_type": "code",
   "execution_count": 143,
   "metadata": {},
   "outputs": [],
   "source": [
    "def get_prob_2_gram(prev, curr):\n",
    "    if get_pair_prob(prev+curr) > 0:\n",
    "        return get_pair_prob(prev+curr) / get_char_prob(prev)\n",
    "    else:\n",
    "        return get_char_prob(curr)"
   ]
  },
  {
   "cell_type": "code",
   "execution_count": 144,
   "metadata": {},
   "outputs": [],
   "source": [
    "def get_prob_string_2_gram(string):\n",
    "    prob = []\n",
    "    for i, c in enumerate(string):\n",
    "        prev = \"<s>\" if i == 0 else string[i-1]\n",
    "        prob.append(get_prob_2_gram(prev, string[i]))\n",
    "    return reduce(mul, prob)"
   ]
  },
  {
   "cell_type": "code",
   "execution_count": 145,
   "metadata": {},
   "outputs": [
    {
     "name": "stdout",
     "output_type": "stream",
     "text": [
      "************************************\n",
      "\t\t前天晚上吃晚饭的时候 has a probablity of 1.4954068467307683e-31\n",
      "\t\t前天晚上吃早饭的时候 has a probablity of 1.740080014520599e-31\n",
      "************************************\n",
      "\t\t正是一个好看的小猫 has a probablity of 3.9048021517514516e-25\n",
      "\t\t真是一个好看的小猫 has a probablity of 1.2269253167106376e-25\n",
      "************************************\n",
      "\t\t我无言以对，简直 has a probablity of 4.313900994419309e-22\n",
      "\t\t我简直无言以对 has a probablity of 4.313900994419309e-22\n"
     ]
    }
   ],
   "source": [
    "get_prob_performance(get_prob_string, pairs)"
   ]
  },
  {
   "cell_type": "code",
   "execution_count": 146,
   "metadata": {},
   "outputs": [
    {
     "name": "stdout",
     "output_type": "stream",
     "text": [
      "************************************\n",
      "\t\t前天晚上吃晚饭的时候 has a probablity of 7.028703194921977e-20\n",
      "\t\t前天晚上吃早饭的时候 has a probablity of 1.7946101534320532e-19\n",
      "************************************\n",
      "\t\t正是一个好看的小猫 has a probablity of 1.3274652576710594e-16\n",
      "\t\t真是一个好看的小猫 has a probablity of 9.077779470149112e-17\n",
      "************************************\n",
      "\t\t我无言以对，简直 has a probablity of 2.1961771254735962e-17\n",
      "\t\t我简直无言以对 has a probablity of 2.0730974405058904e-17\n"
     ]
    }
   ],
   "source": [
    "get_prob_performance(get_prob_string_2_gram, pairs)"
   ]
  },
  {
   "cell_type": "code",
   "execution_count": 156,
   "metadata": {},
   "outputs": [],
   "source": [
    "string_pair = [['你是个神经病', '你是个精神病'],\n",
    "               ['你是个神经病', '你是个绳井冰']]"
   ]
  },
  {
   "cell_type": "code",
   "execution_count": 157,
   "metadata": {},
   "outputs": [
    {
     "name": "stdout",
     "output_type": "stream",
     "text": [
      "************************************\n",
      "\t\t你是个神经病 has a probablity of 3.2493512405106385e-12\n",
      "\t\t你是个精神病 has a probablity of 4.4464848601265253e-10\n",
      "************************************\n",
      "\t\t你是个神经病 has a probablity of 3.2493512405106385e-12\n",
      "\t\t你是个绳井冰 has a probablity of 2.0326016348676102e-15\n"
     ]
    }
   ],
   "source": [
    "get_prob_performance(get_prob_string_2_gram, string_pair)"
   ]
  },
  {
   "cell_type": "code",
   "execution_count": null,
   "metadata": {},
   "outputs": [],
   "source": []
  }
 ],
 "metadata": {
  "kernelspec": {
   "display_name": "Python 3",
   "language": "python",
   "name": "python3"
  },
  "language_info": {
   "codemirror_mode": {
    "name": "ipython",
    "version": 3
   },
   "file_extension": ".py",
   "mimetype": "text/x-python",
   "name": "python",
   "nbconvert_exporter": "python",
   "pygments_lexer": "ipython3",
   "version": "3.7.0"
  }
 },
 "nbformat": 4,
 "nbformat_minor": 2
}
